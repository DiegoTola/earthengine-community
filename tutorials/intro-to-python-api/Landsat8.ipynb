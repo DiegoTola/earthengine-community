# Cargue una Landsat 8 ImageCollection
collection = ee.ImageCollection("LANDSAT/LC08/C02/T1_L2")\
               .filterDate('2014-01-01', '2023-04-20')\
               .filterBounds(ee.Geometry.Point(-64.88, -14.89))
# Applies scaling factors.
def applyScaleFactors(image):
  opticalBands = image.select('SR_B.').multiply(0.0000275).add(-0.2)
  thermalBands = image.select('ST_B.*').multiply(0.00341802).add(149.0)
  return image.addBands(opticalBands, None, True)\
              .addBands(thermalBands, None, True)

collection = collection.map(applyScaleFactors)
l8_viz_params = {'bands':['SR_B4','SR_B3','SR_B2'],'min':0.0,'max': 0.3}
l8_to_plot_median = collection.median().getMapId(l8_viz_params)
mapdisplay(center,{'median_l8_cloud':l8_to_plot_median}) #previamente debe cargar la función mapdisplay
